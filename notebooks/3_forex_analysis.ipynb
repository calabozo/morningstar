{
 "cells": [
  {
   "cell_type": "code",
   "execution_count": 1,
   "metadata": {},
   "outputs": [
    {
     "name": "stderr",
     "output_type": "stream",
     "text": [
      "── \u001b[1mAttaching packages\u001b[22m ────────────────────────────────────────────────────────────────────────────────────────────────────────────────────────────────────────────────────────────────── tidyverse 1.3.0 ──\n",
      "\n",
      "\u001b[32m✔\u001b[39m \u001b[34mggplot2\u001b[39m 3.3.2     \u001b[32m✔\u001b[39m \u001b[34mpurrr  \u001b[39m 0.3.4\n",
      "\u001b[32m✔\u001b[39m \u001b[34mtibble \u001b[39m 3.0.4     \u001b[32m✔\u001b[39m \u001b[34mdplyr  \u001b[39m 1.0.2\n",
      "\u001b[32m✔\u001b[39m \u001b[34mtidyr  \u001b[39m 1.1.2     \u001b[32m✔\u001b[39m \u001b[34mstringr\u001b[39m 1.4.0\n",
      "\u001b[32m✔\u001b[39m \u001b[34mreadr  \u001b[39m 1.4.0     \u001b[32m✔\u001b[39m \u001b[34mforcats\u001b[39m 0.5.0\n",
      "\n",
      "── \u001b[1mConflicts\u001b[22m ───────────────────────────────────────────────────────────────────────────────────────────────────────────────────────────────────────────────────────────────────── tidyverse_conflicts() ──\n",
      "\u001b[31m✖\u001b[39m \u001b[34mdplyr\u001b[39m::\u001b[32mfilter()\u001b[39m masks \u001b[34mstats\u001b[39m::filter()\n",
      "\u001b[31m✖\u001b[39m \u001b[34mdplyr\u001b[39m::\u001b[32mlag()\u001b[39m    masks \u001b[34mstats\u001b[39m::lag()\n",
      "\n"
     ]
    }
   ],
   "source": [
    "library('reticulate')\n",
    "source('../src/R/rfunds.R')"
   ]
  },
  {
   "cell_type": "code",
   "execution_count": 6,
   "metadata": {},
   "outputs": [],
   "source": []
  },
  {
   "cell_type": "code",
   "execution_count": 9,
   "metadata": {},
   "outputs": [],
   "source": []
  },
  {
   "cell_type": "code",
   "execution_count": 14,
   "metadata": {},
   "outputs": [],
   "source": [
    "pyfunds <- import_from_path('pyfunds', path = \"../src/\")\n",
    "reload <- TRUE\n",
    "if (reload){\n",
    "    dt <- import(\"datetime\", convert = FALSE)\n",
    "    fx<-pyfunds$Forex(fx_base=\"EUR\",fx_trade=\"USD\",start_date=dt$date(2010L, 10L, 1L),end_date=dt$date(2020L, 12L, 31L))\n",
    "    fx$save_to_disk(\"forex_eurusd.parquet\")\n",
    "}else{\n",
    "    fx<-pyfunds$Forex(fx_base=\"EUR\",fx_trade=\"USD\")\n",
    "    fx$read_from_dist(\"forex_eurusd.parquet\")\n",
    "}"
   ]
  },
  {
   "cell_type": "code",
   "execution_count": 17,
   "metadata": {},
   "outputs": [],
   "source": [
    "roivar <- fx$calc_roi_var(num_days=7)"
   ]
  },
  {
   "cell_type": "code",
   "execution_count": 23,
   "metadata": {},
   "outputs": [],
   "source": [
    "roi=roivar[[1]]"
   ]
  },
  {
   "cell_type": "code",
   "execution_count": 24,
   "metadata": {},
   "outputs": [
    {
     "data": {
      "text/html": [
       "4054642"
      ],
      "text/latex": [
       "4054642"
      ],
      "text/markdown": [
       "4054642"
      ],
      "text/plain": [
       "[1] 4054642"
      ]
     },
     "metadata": {},
     "output_type": "display_data"
    }
   ],
   "source": [
    "nrow(roi)"
   ]
  },
  {
   "cell_type": "code",
   "execution_count": 25,
   "metadata": {},
   "outputs": [
    {
     "data": {
      "text/html": [
       "<table>\n",
       "<caption>A data.frame: 6 × 5</caption>\n",
       "<thead>\n",
       "\t<tr><th></th><th scope=col>open</th><th scope=col>high</th><th scope=col>low</th><th scope=col>close</th><th scope=col>volume</th></tr>\n",
       "\t<tr><th></th><th scope=col>&lt;dbl&gt;</th><th scope=col>&lt;dbl&gt;</th><th scope=col>&lt;dbl&gt;</th><th scope=col>&lt;dbl&gt;</th><th scope=col>&lt;dbl&gt;</th></tr>\n",
       "</thead>\n",
       "<tbody>\n",
       "\t<tr><th scope=row>2010-01-03 23:00:00</th><td>1.0000000</td><td>1.00000</td><td>1.0000000</td><td>1.00000</td><td>NaN</td></tr>\n",
       "\t<tr><th scope=row>2010-01-03 23:01:00</th><td>0.9998602</td><td>1.00007</td><td>0.9998602</td><td>1.00007</td><td>NaN</td></tr>\n",
       "\t<tr><th scope=row>2010-01-03 23:02:00</th><td>0.9999301</td><td>1.00007</td><td>1.0000000</td><td>1.00007</td><td>NaN</td></tr>\n",
       "\t<tr><th scope=row>2010-01-03 23:03:00</th><td>0.9999301</td><td>1.00014</td><td>0.9999301</td><td>1.00014</td><td>NaN</td></tr>\n",
       "\t<tr><th scope=row>2010-01-03 23:04:00</th><td>1.0000000</td><td>1.00014</td><td>1.0002098</td><td>1.00028</td><td>NaN</td></tr>\n",
       "\t<tr><th scope=row>2010-01-03 23:06:00</th><td>1.0000000</td><td>1.00021</td><td>1.0000699</td><td>1.00021</td><td>NaN</td></tr>\n",
       "</tbody>\n",
       "</table>\n"
      ],
      "text/latex": [
       "A data.frame: 6 × 5\n",
       "\\begin{tabular}{r|lllll}\n",
       "  & open & high & low & close & volume\\\\\n",
       "  & <dbl> & <dbl> & <dbl> & <dbl> & <dbl>\\\\\n",
       "\\hline\n",
       "\t2010-01-03 23:00:00 & 1.0000000 & 1.00000 & 1.0000000 & 1.00000 & NaN\\\\\n",
       "\t2010-01-03 23:01:00 & 0.9998602 & 1.00007 & 0.9998602 & 1.00007 & NaN\\\\\n",
       "\t2010-01-03 23:02:00 & 0.9999301 & 1.00007 & 1.0000000 & 1.00007 & NaN\\\\\n",
       "\t2010-01-03 23:03:00 & 0.9999301 & 1.00014 & 0.9999301 & 1.00014 & NaN\\\\\n",
       "\t2010-01-03 23:04:00 & 1.0000000 & 1.00014 & 1.0002098 & 1.00028 & NaN\\\\\n",
       "\t2010-01-03 23:06:00 & 1.0000000 & 1.00021 & 1.0000699 & 1.00021 & NaN\\\\\n",
       "\\end{tabular}\n"
      ],
      "text/markdown": [
       "\n",
       "A data.frame: 6 × 5\n",
       "\n",
       "| <!--/--> | open &lt;dbl&gt; | high &lt;dbl&gt; | low &lt;dbl&gt; | close &lt;dbl&gt; | volume &lt;dbl&gt; |\n",
       "|---|---|---|---|---|---|\n",
       "| 2010-01-03 23:00:00 | 1.0000000 | 1.00000 | 1.0000000 | 1.00000 | NaN |\n",
       "| 2010-01-03 23:01:00 | 0.9998602 | 1.00007 | 0.9998602 | 1.00007 | NaN |\n",
       "| 2010-01-03 23:02:00 | 0.9999301 | 1.00007 | 1.0000000 | 1.00007 | NaN |\n",
       "| 2010-01-03 23:03:00 | 0.9999301 | 1.00014 | 0.9999301 | 1.00014 | NaN |\n",
       "| 2010-01-03 23:04:00 | 1.0000000 | 1.00014 | 1.0002098 | 1.00028 | NaN |\n",
       "| 2010-01-03 23:06:00 | 1.0000000 | 1.00021 | 1.0000699 | 1.00021 | NaN |\n",
       "\n"
      ],
      "text/plain": [
       "                    open      high    low       close   volume\n",
       "2010-01-03 23:00:00 1.0000000 1.00000 1.0000000 1.00000 NaN   \n",
       "2010-01-03 23:01:00 0.9998602 1.00007 0.9998602 1.00007 NaN   \n",
       "2010-01-03 23:02:00 0.9999301 1.00007 1.0000000 1.00007 NaN   \n",
       "2010-01-03 23:03:00 0.9999301 1.00014 0.9999301 1.00014 NaN   \n",
       "2010-01-03 23:04:00 1.0000000 1.00014 1.0002098 1.00028 NaN   \n",
       "2010-01-03 23:06:00 1.0000000 1.00021 1.0000699 1.00021 NaN   "
      ]
     },
     "metadata": {},
     "output_type": "display_data"
    }
   ],
   "source": [
    "head(roi)"
   ]
  },
  {
   "cell_type": "code",
   "execution_count": 26,
   "metadata": {},
   "outputs": [
    {
     "data": {
      "image/png": "[encoded data removed]",
      "text/plain": [
       "plot without title"
      ]
     },
     "metadata": {
      "image/png": {
       "height": 420,
       "width": 420
      }
     },
     "output_type": "display_data"
    }
   ],
   "source": [
    "ggplot(roi,aes(x=open))+geom_density()"
   ]
  },
  {
   "cell_type": "code",
   "execution_count": 27,
   "metadata": {},
   "outputs": [
    {
     "data": {
      "text/html": [
       "1.00037570483741"
      ],
      "text/latex": [
       "1.00037570483741"
      ],
      "text/markdown": [
       "1.00037570483741"
      ],
      "text/plain": [
       "[1] 1.000376"
      ]
     },
     "metadata": {},
     "output_type": "display_data"
    }
   ],
   "source": [
    "mean(roi$open)"
   ]
  },
  {
   "cell_type": "code",
   "execution_count": 30,
   "metadata": {},
   "outputs": [],
   "source": [
    "roi$datetime<-as.POSIXct(rownames(roi))"
   ]
  },
  {
   "cell_type": "code",
   "execution_count": 34,
   "metadata": {},
   "outputs": [
    {
     "data": {
      "text/html": [
       "0.0282449104014608"
      ],
      "text/latex": [
       "0.0282449104014608"
      ],
      "text/markdown": [
       "0.0282449104014608"
      ],
      "text/plain": [
       "[1] 0.02824491"
      ]
     },
     "metadata": {},
     "output_type": "display_data"
    }
   ],
   "source": [
    "sum(roi$open>1.025)/nrow(roi)"
   ]
  },
  {
   "cell_type": "code",
   "execution_count": 35,
   "metadata": {},
   "outputs": [
    {
     "data": {
      "text/html": [
       "1.28008454419636"
      ],
      "text/latex": [
       "1.28008454419636"
      ],
      "text/markdown": [
       "1.28008454419636"
      ],
      "text/plain": [
       "[1] 1.280085"
      ]
     },
     "metadata": {},
     "output_type": "display_data"
    }
   ],
   "source": [
    "1.025^10"
   ]
  },
  {
   "cell_type": "code",
   "execution_count": null,
   "metadata": {},
   "outputs": [],
   "source": []
  }
 ],
 "metadata": {
  "kernelspec": {
   "display_name": "R",
   "language": "R",
   "name": "ir"
  },
  "language_info": {
   "codemirror_mode": "r",
   "file_extension": ".r",
   "mimetype": "text/x-r-source",
   "name": "R",
   "pygments_lexer": "r",
   "version": "3.6.3"
  }
 },
 "nbformat": 4,
 "nbformat_minor": 4
}
